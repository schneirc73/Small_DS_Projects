{
 "cells": [
  {
   "cell_type": "markdown",
   "metadata": {},
   "source": [
    "* Fraudulent Job Postings\n",
    "This notebook will use text from job postings to determine if a job posting is legitimate or fraudulent.  The original posting of the data can be found at the following link on Kaggle. https://www.kaggle.com/shivamb/real-or-fake-fake-jobposting-prediction"
   ]
  },
  {
   "cell_type": "markdown",
   "metadata": {},
   "source": [
    "Import the necessary libraries"
   ]
  },
  {
   "cell_type": "code",
   "execution_count": 1,
   "metadata": {},
   "outputs": [],
   "source": [
    "import pandas as pd\n",
    "import numpy as np\n",
    "import matplotlib.pyplot as plt\n",
    "import joblib\n",
    "pd.set_option('display.max_columns', None)"
   ]
  },
  {
   "cell_type": "markdown",
   "metadata": {},
   "source": [
    "Read in Data and select information of interest"
   ]
  },
  {
   "cell_type": "code",
   "execution_count": 2,
   "metadata": {},
   "outputs": [],
   "source": [
    "df = pd.read_csv(\"C:/Users/schne/Desktop/NLP_Example_Job_Text/fake_job_postings.csv\")\n",
    "df = df[df['description'].notna()]\n",
    "df.head()\n",
    "\n",
    "Text = df['description']\n",
    "Y = df['fraudulent']"
   ]
  },
  {
   "cell_type": "markdown",
   "metadata": {},
   "source": [
    "Text Formatting"
   ]
  },
  {
   "cell_type": "code",
   "execution_count": 3,
   "metadata": {},
   "outputs": [
    {
     "data": {
      "text/plain": [
       "(17879, 62231)"
      ]
     },
     "execution_count": 3,
     "metadata": {},
     "output_type": "execute_result"
    }
   ],
   "source": [
    "from sklearn.feature_extraction.text import CountVectorizer\n",
    "count_vect = CountVectorizer()\n",
    "Text_Vect = count_vect.fit_transform(Text)\n",
    "Text_Vect.shape\n",
    "count_vect.vocabulary_.get(u'algorithm')\n",
    "\n",
    "from sklearn.feature_extraction.text import TfidfTransformer\n",
    "tf_transformer = TfidfTransformer(use_idf=False).fit(Text_Vect)\n",
    "Text_tf = tf_transformer.transform(Text_Vect)\n",
    "Text_tf.shape"
   ]
  },
  {
   "cell_type": "markdown",
   "metadata": {},
   "source": [
    "Split Data into Training and Testing subsets"
   ]
  },
  {
   "cell_type": "code",
   "execution_count": 4,
   "metadata": {},
   "outputs": [],
   "source": [
    "from sklearn.model_selection import train_test_split\n",
    "Text_Training, Text_Test, Label_Training, Label_Test = train_test_split(Text_tf,\n",
    "Y, test_size= 0.2, random_state= 7991)"
   ]
  },
  {
   "cell_type": "markdown",
   "metadata": {},
   "source": [
    "Build Multiple Prediction Models and Metrics Functions\n",
    "\n",
    "When looking at the two created classifiers below the SVM classifier performed the best with a True positive rate of 96% \n",
    "and a Positive Predicted Value of 100% which is the value of interest for this classifier due to the model not passing a fraudulent job into the real job listing.  This type of model would be useful for websites that hosts job listings where the model can be used to flag job postings for review by a person.  The model can also be used by a person seeking a job and running the job description through the model can determine if it is safe to provide a listing with sensitive information."
   ]
  },
  {
   "cell_type": "code",
   "execution_count": 5,
   "metadata": {},
   "outputs": [],
   "source": [
    "def Con_Max_2by2(Matrix, Model_Name):\n",
    "    Positives= Matrix[0,0] + Matrix[0,1]\n",
    "    Negatives= Matrix[1,0] + Matrix[1,1]\n",
    "    Predicted_Postives = Matrix[0,0] + Matrix[1,0]\n",
    "    Predicted_Negatives = Matrix[0,1] + Matrix[1,1]\n",
    "    True_Positive_Rate = Matrix[0,0] / Positives\n",
    "    True_Negative_Rate = Matrix[1,1] / Negatives\n",
    "    Positive_Predicted_Value= Matrix[0,0] / (Matrix[0,0] + Matrix[1,0])\n",
    "    Negative_Predicted_Value= Matrix[1,1] / (Matrix[0,1] + Matrix[1,1])\n",
    "    NEW = print(f'Model: {Model_Name} \\n',\n",
    "    'True Positive Rate:',True_Positive_Rate,'\\n',\n",
    "    'True Negative Rate:', True_Negative_Rate, '\\n',\n",
    "    'Positive Predicted Value:', Positive_Predicted_Value, '\\n',\n",
    "    'Negative Predicted Value:', Negative_Predicted_Value)\n",
    "    return True_Positive_Rate,True_Negative_Rate , Positive_Predicted_Value, Negative_Predicted_Value\n"
   ]
  },
  {
   "cell_type": "code",
   "execution_count": 6,
   "metadata": {},
   "outputs": [
    {
     "name": "stdout",
     "output_type": "stream",
     "text": [
      "NB Classifier:\n",
      " Accuarcy: 0.9493847874720358\n",
      "Confusion Matrix \n",
      " [[3395  178]\n",
      " [   3    0]]\n",
      "Model: NB \n",
      " True Postive Rate: 0.9501819199552197 \n",
      " True Negative Rate: 0.0 \n",
      " Positive Predicted Value: 0.9991171277221895 \n",
      " Negative Predicted Value: 0.0\n"
     ]
    },
    {
     "data": {
      "text/plain": [
       "['Job_NB_Classifier']"
      ]
     },
     "execution_count": 6,
     "metadata": {},
     "output_type": "execute_result"
    }
   ],
   "source": [
    "from sklearn.naive_bayes import MultinomialNB\n",
    "NB_classifier = MultinomialNB().fit(Text_Training, Label_Training)\n",
    "NB_Test=NB_classifier.predict(Text_Test)\n",
    "from sklearn.metrics import confusion_matrix\n",
    "print(\"NB Classifier:\\n\",\"Accuarcy:\",np.mean(NB_Test == Label_Test))\n",
    "print(\"Confusion Matrix \\n\",confusion_matrix(NB_Test, Label_Test))\n",
    "NB_Output = confusion_matrix(NB_Test, Label_Test)\n",
    "NB_2by2 = Con_Max_2by2(NB_Output, 'NB')\n",
    "joblib.dump(NB_classifier, 'Job_NB_Classifier')"
   ]
  },
  {
   "cell_type": "code",
   "execution_count": 7,
   "metadata": {},
   "outputs": [
    {
     "name": "stdout",
     "output_type": "stream",
     "text": [
      "SVM Classifier:\n",
      " Accuarcy: 0.9633668903803132\n",
      "Confusion Matrix \n",
      " [[3398  131]\n",
      " [   0   47]]\n",
      "Model: SVM \n",
      " True Postive Rate: 0.9628790025502976 \n",
      " True Negative Rate: 1.0 \n",
      " Positive Predicted Value: 1.0 \n",
      " Negative Predicted Value: 0.2640449438202247\n"
     ]
    },
    {
     "data": {
      "text/plain": [
       "['Job_SVM_Classifier']"
      ]
     },
     "execution_count": 7,
     "metadata": {},
     "output_type": "execute_result"
    }
   ],
   "source": [
    "from sklearn.linear_model import SGDClassifier\n",
    "SVM_classifier = SGDClassifier().fit(Text_Training, Label_Training)\n",
    "SVM_Test = SVM_classifier.predict(Text_Test)\n",
    "print(\"SVM Classifier:\\n\",\"Accuarcy:\",np.mean(SVM_Test == Label_Test))\n",
    "print(\"Confusion Matrix \\n\",confusion_matrix(SVM_Test, Label_Test))\n",
    "SVM_Output = confusion_matrix(SVM_Test, Label_Test)\n",
    "SVM_2by2 = Con_Max_2by2(SVM_Output, 'SVM')\n",
    "joblib.dump(SVM_classifier, 'Job_SVM_Classifier')"
   ]
  }
 ],
 "metadata": {
  "kernelspec": {
   "display_name": "Python 3",
   "language": "python",
   "name": "python3"
  },
  "language_info": {
   "codemirror_mode": {
    "name": "ipython",
    "version": 3
   },
   "file_extension": ".py",
   "mimetype": "text/x-python",
   "name": "python",
   "nbconvert_exporter": "python",
   "pygments_lexer": "ipython3",
   "version": "3.8.3"
  },
  "varInspector": {
   "cols": {
    "lenName": 16,
    "lenType": 16,
    "lenVar": 40
   },
   "kernels_config": {
    "python": {
     "delete_cmd_postfix": "",
     "delete_cmd_prefix": "del ",
     "library": "var_list.py",
     "varRefreshCmd": "print(var_dic_list())"
    },
    "r": {
     "delete_cmd_postfix": ") ",
     "delete_cmd_prefix": "rm(",
     "library": "var_list.r",
     "varRefreshCmd": "cat(var_dic_list()) "
    }
   },
   "types_to_exclude": [
    "module",
    "function",
    "builtin_function_or_method",
    "instance",
    "_Feature"
   ],
   "window_display": false
  }
 },
 "nbformat": 4,
 "nbformat_minor": 4
}
